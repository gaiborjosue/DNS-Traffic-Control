{
 "cells": [
  {
   "cell_type": "code",
   "execution_count": 15,
   "metadata": {},
   "outputs": [],
   "source": [
    "# First we have to import the libraries\n",
    "import pandas as pd\n",
    "import numpy as np"
   ]
  },
  {
   "cell_type": "code",
   "execution_count": 16,
   "metadata": {},
   "outputs": [
    {
     "name": "stdout",
     "output_type": "stream",
     "text": [
      "   rr_type distinct_ip unique_country unique_asn distinct_domains reverse_dns  \\\n",
      "0  {'PTR'}       set()          set()      set()               {}     unknown   \n",
      "1  {'PTR'}       set()          set()      set()               {}     unknown   \n",
      "2  {'PTR'}       set()          set()      set()               {}     unknown   \n",
      "3  {'PTR'}       set()          set()      set()               {}     unknown   \n",
      "4  {'PTR'}       set()          set()      set()               {}     unknown   \n",
      "\n",
      "   class  \n",
      "0      1  \n",
      "1      1  \n",
      "2      1  \n",
      "3      1  \n",
      "4      1  \n"
     ]
    }
   ],
   "source": [
    "# Here we are going to import the first benign dataset fron 'data' folder\n",
    "data = pd.read_csv('C:\\\\Users\\\\gaibo\\\\OneDrive\\\\Escritorio\\\\Python Projects\\\\DNS Traffic Control\\\\Data\\\\Stateful\\\\merged.csv')\n",
    "\n",
    "print(data.head())"
   ]
  },
  {
   "cell_type": "code",
   "execution_count": 17,
   "metadata": {},
   "outputs": [],
   "source": [
    "# To avoid bias we are going to shuffle the dataset\n",
    "data = data.sample(frac=1).reset_index(drop=True)\n"
   ]
  },
  {
   "cell_type": "code",
   "execution_count": 18,
   "metadata": {},
   "outputs": [],
   "source": [
    "from sklearn.preprocessing import LabelEncoder\n",
    "\n",
    "le = LabelEncoder()\n",
    "\n",
    "# Encode these features from the data: rr_type, distinct_ip, unique_country, unique_asn, distinct_domains, reverse_dns\n",
    "\n",
    "data['rr_type'] = le.fit_transform(data['rr_type'])\n",
    "data['distinct_ip'] = le.fit_transform(data['distinct_ip'])\n",
    "data['unique_country'] = le.fit_transform(data['unique_country'])\n",
    "data['unique_asn'] = le.fit_transform(data['unique_asn'])\n",
    "data['distinct_domains'] = le.fit_transform(data['distinct_domains'])\n",
    "data['reverse_dns'] = le.fit_transform(data['reverse_dns'])\n"
   ]
  },
  {
   "cell_type": "code",
   "execution_count": 19,
   "metadata": {},
   "outputs": [
    {
     "data": {
      "text/html": [
       "<div>\n",
       "<style scoped>\n",
       "    .dataframe tbody tr th:only-of-type {\n",
       "        vertical-align: middle;\n",
       "    }\n",
       "\n",
       "    .dataframe tbody tr th {\n",
       "        vertical-align: top;\n",
       "    }\n",
       "\n",
       "    .dataframe thead th {\n",
       "        text-align: right;\n",
       "    }\n",
       "</style>\n",
       "<table border=\"1\" class=\"dataframe\">\n",
       "  <thead>\n",
       "    <tr style=\"text-align: right;\">\n",
       "      <th></th>\n",
       "      <th>rr_type</th>\n",
       "      <th>distinct_ip</th>\n",
       "      <th>unique_country</th>\n",
       "      <th>unique_asn</th>\n",
       "      <th>distinct_domains</th>\n",
       "      <th>reverse_dns</th>\n",
       "      <th>class</th>\n",
       "    </tr>\n",
       "  </thead>\n",
       "  <tbody>\n",
       "    <tr>\n",
       "      <th>0</th>\n",
       "      <td>1</td>\n",
       "      <td>0</td>\n",
       "      <td>125</td>\n",
       "      <td>337</td>\n",
       "      <td>14574</td>\n",
       "      <td>1161</td>\n",
       "      <td>0</td>\n",
       "    </tr>\n",
       "    <tr>\n",
       "      <th>1</th>\n",
       "      <td>1</td>\n",
       "      <td>0</td>\n",
       "      <td>125</td>\n",
       "      <td>287</td>\n",
       "      <td>12209</td>\n",
       "      <td>489</td>\n",
       "      <td>0</td>\n",
       "    </tr>\n",
       "    <tr>\n",
       "      <th>2</th>\n",
       "      <td>3</td>\n",
       "      <td>0</td>\n",
       "      <td>0</td>\n",
       "      <td>0</td>\n",
       "      <td>19974</td>\n",
       "      <td>7984</td>\n",
       "      <td>1</td>\n",
       "    </tr>\n",
       "    <tr>\n",
       "      <th>3</th>\n",
       "      <td>2</td>\n",
       "      <td>0</td>\n",
       "      <td>0</td>\n",
       "      <td>0</td>\n",
       "      <td>19974</td>\n",
       "      <td>7984</td>\n",
       "      <td>0</td>\n",
       "    </tr>\n",
       "    <tr>\n",
       "      <th>4</th>\n",
       "      <td>1</td>\n",
       "      <td>0</td>\n",
       "      <td>0</td>\n",
       "      <td>0</td>\n",
       "      <td>19974</td>\n",
       "      <td>7984</td>\n",
       "      <td>0</td>\n",
       "    </tr>\n",
       "  </tbody>\n",
       "</table>\n",
       "</div>"
      ],
      "text/plain": [
       "   rr_type  distinct_ip  unique_country  unique_asn  distinct_domains  \\\n",
       "0        1            0             125         337             14574   \n",
       "1        1            0             125         287             12209   \n",
       "2        3            0               0           0             19974   \n",
       "3        2            0               0           0             19974   \n",
       "4        1            0               0           0             19974   \n",
       "\n",
       "   reverse_dns  class  \n",
       "0         1161      0  \n",
       "1          489      0  \n",
       "2         7984      1  \n",
       "3         7984      0  \n",
       "4         7984      0  "
      ]
     },
     "execution_count": 19,
     "metadata": {},
     "output_type": "execute_result"
    }
   ],
   "source": [
    "# Then lets remove NaN values from the dataset\n",
    "data = data.dropna()\n",
    "\n",
    "# Print head of the dataset\n",
    "data.head()"
   ]
  },
  {
   "cell_type": "code",
   "execution_count": 20,
   "metadata": {},
   "outputs": [
    {
     "data": {
      "text/html": [
       "<div>\n",
       "<style scoped>\n",
       "    .dataframe tbody tr th:only-of-type {\n",
       "        vertical-align: middle;\n",
       "    }\n",
       "\n",
       "    .dataframe tbody tr th {\n",
       "        vertical-align: top;\n",
       "    }\n",
       "\n",
       "    .dataframe thead th {\n",
       "        text-align: right;\n",
       "    }\n",
       "</style>\n",
       "<table border=\"1\" class=\"dataframe\">\n",
       "  <thead>\n",
       "    <tr style=\"text-align: right;\">\n",
       "      <th></th>\n",
       "      <th>rr_type</th>\n",
       "      <th>distinct_ip</th>\n",
       "      <th>unique_country</th>\n",
       "      <th>unique_asn</th>\n",
       "      <th>distinct_domains</th>\n",
       "      <th>reverse_dns</th>\n",
       "      <th>class</th>\n",
       "    </tr>\n",
       "  </thead>\n",
       "  <tbody>\n",
       "    <tr>\n",
       "      <th>0</th>\n",
       "      <td>-0.804852</td>\n",
       "      <td>0.0</td>\n",
       "      <td>1.905456</td>\n",
       "      <td>0.024011</td>\n",
       "      <td>-0.383523</td>\n",
       "      <td>-3.507853</td>\n",
       "      <td>0</td>\n",
       "    </tr>\n",
       "    <tr>\n",
       "      <th>1</th>\n",
       "      <td>-0.804852</td>\n",
       "      <td>0.0</td>\n",
       "      <td>1.905456</td>\n",
       "      <td>-0.051590</td>\n",
       "      <td>-0.798488</td>\n",
       "      <td>-3.889561</td>\n",
       "      <td>0</td>\n",
       "    </tr>\n",
       "    <tr>\n",
       "      <th>2</th>\n",
       "      <td>2.873078</td>\n",
       "      <td>0.0</td>\n",
       "      <td>-0.617181</td>\n",
       "      <td>-0.485537</td>\n",
       "      <td>0.563966</td>\n",
       "      <td>0.367732</td>\n",
       "      <td>1</td>\n",
       "    </tr>\n",
       "    <tr>\n",
       "      <th>3</th>\n",
       "      <td>1.034113</td>\n",
       "      <td>0.0</td>\n",
       "      <td>-0.617181</td>\n",
       "      <td>-0.485537</td>\n",
       "      <td>0.563966</td>\n",
       "      <td>0.367732</td>\n",
       "      <td>0</td>\n",
       "    </tr>\n",
       "    <tr>\n",
       "      <th>4</th>\n",
       "      <td>-0.804852</td>\n",
       "      <td>0.0</td>\n",
       "      <td>-0.617181</td>\n",
       "      <td>-0.485537</td>\n",
       "      <td>0.563966</td>\n",
       "      <td>0.367732</td>\n",
       "      <td>0</td>\n",
       "    </tr>\n",
       "  </tbody>\n",
       "</table>\n",
       "</div>"
      ],
      "text/plain": [
       "    rr_type  distinct_ip  unique_country  unique_asn  distinct_domains  \\\n",
       "0 -0.804852          0.0        1.905456    0.024011         -0.383523   \n",
       "1 -0.804852          0.0        1.905456   -0.051590         -0.798488   \n",
       "2  2.873078          0.0       -0.617181   -0.485537          0.563966   \n",
       "3  1.034113          0.0       -0.617181   -0.485537          0.563966   \n",
       "4 -0.804852          0.0       -0.617181   -0.485537          0.563966   \n",
       "\n",
       "   reverse_dns  class  \n",
       "0    -3.507853      0  \n",
       "1    -3.889561      0  \n",
       "2     0.367732      1  \n",
       "3     0.367732      0  \n",
       "4     0.367732      0  "
      ]
     },
     "execution_count": 20,
     "metadata": {},
     "output_type": "execute_result"
    }
   ],
   "source": [
    "# Lets normalize the numerical data\n",
    "from sklearn.preprocessing import StandardScaler\n",
    "\n",
    "# Create a scaler object\n",
    "scaler = StandardScaler()\n",
    "\n",
    "# Fit the scaler to the features and transform only for the features: rr_type, distinct_ip, unique_country, unique_asn, distinct_domains, reverse_dns\n",
    "data[['rr_type', 'distinct_ip', 'unique_country', 'unique_asn', 'distinct_domains', 'reverse_dns']] = scaler.fit_transform(data[['rr_type', 'distinct_ip', 'unique_country', 'unique_asn', 'distinct_domains', 'reverse_dns']])\n",
    "\n",
    "data.head()"
   ]
  },
  {
   "cell_type": "code",
   "execution_count": 25,
   "metadata": {},
   "outputs": [
    {
     "name": "stdout",
     "output_type": "stream",
     "text": [
      "Accuracy:  0.7899383109976601\n"
     ]
    }
   ],
   "source": [
    "# After preparing the dataset, lets import sklearn libraries. In this project we are going to use random forest classifier\n",
    "from sklearn.ensemble import RandomForestClassifier\n",
    "from sklearn.model_selection import train_test_split\n",
    "from sklearn.metrics import accuracy_score\n",
    "\n",
    "# Now lets split the dataset into training and testing data, we are going to use only the most important features for the model\n",
    "X = data.drop(['class'], axis=1)\n",
    "y = data['class']\n",
    "\n",
    "X_train, X_test, y_train, y_test = train_test_split(X, y, test_size=0.3, random_state=42)\n",
    "\n",
    "\n",
    "# Now lets create the model\n",
    "model = RandomForestClassifier(n_estimators=100, max_depth=100, random_state=42)\n",
    "\n",
    "# Now lets train the model\n",
    "model.fit(X_train, y_train)\n",
    "\n",
    "# Now lets test the model\n",
    "y_pred = model.predict(X_test)\n",
    "\n",
    "# Now lets check the accuracy of the model\n",
    "accuracy_score(y_test, y_pred)\n",
    "\n",
    "# Print the accuracy\n",
    "print(\"Accuracy: \", accuracy_score(y_test, y_pred))"
   ]
  },
  {
   "cell_type": "code",
   "execution_count": 26,
   "metadata": {},
   "outputs": [
    {
     "name": "stdout",
     "output_type": "stream",
     "text": [
      "Mean CV score: 0.79\n"
     ]
    }
   ],
   "source": [
    "# Now lets perform cross validation to be sure we are not overfitting the model\n",
    "\n",
    "from sklearn.model_selection import cross_val_score\n",
    "\n",
    "# Perform 5-fold cross-validation on your data\n",
    "cv_scores = cross_val_score(model, X, y, cv=5)\n",
    "\n",
    "# Print the mean cross-validation score\n",
    "print(\"Mean CV score: {:.2f}\".format(cv_scores.mean())) # This is the mean accuracy of the model and as seen it is 0.85, which is close to the accuracy of the model, so we can say that we are not overfitting the model on the training data and it will do well on the testing new data"
   ]
  },
  {
   "cell_type": "code",
   "execution_count": 27,
   "metadata": {},
   "outputs": [
    {
     "data": {
      "image/png": "[encoded data removed]",
      "text/plain": [
       "<Figure size 432x288 with 1 Axes>"
      ]
     },
     "metadata": {
      "needs_background": "light"
     },
     "output_type": "display_data"
    }
   ],
   "source": [
    "import matplotlib.pyplot as plt\n",
    "\n",
    "# Now lets plot the feature importance to understand which features are more important\n",
    "importances = model.feature_importances_\n",
    "\n",
    "# get the names of the features\n",
    "feature_names = X_train.columns.values\n",
    "\n",
    "# sort the features by their importance score in descending order\n",
    "indices = np.argsort(importances)[::-1]\n",
    "\n",
    "# plot the feature importances\n",
    "plt.figure()\n",
    "plt.title(\"Feature importances\")\n",
    "plt.bar(range(X_train.shape[1]), importances[indices], color=\"r\", align=\"center\")\n",
    "plt.xticks(range(X_train.shape[1]), feature_names[indices], rotation=90)\n",
    "plt.xlim([-1, X_train.shape[1]])\n",
    "plt.tight_layout()\n",
    "plt.show()"
   ]
  },
  {
   "cell_type": "code",
   "execution_count": 28,
   "metadata": {},
   "outputs": [
    {
     "data": {
      "text/plain": [
       "['C:\\\\Users\\\\gaibo\\\\OneDrive\\\\Escritorio\\\\Python Projects\\\\DNS Traffic Control\\\\Out\\\\RandomForest_stateful.joblib']"
      ]
     },
     "execution_count": 28,
     "metadata": {},
     "output_type": "execute_result"
    }
   ],
   "source": [
    "# Now lets save the model\n",
    "import joblib\n",
    "\n",
    "# Save the model as a joblib file\n",
    "joblib.dump(model, 'C:\\\\Users\\\\gaibo\\\\OneDrive\\\\Escritorio\\\\Python Projects\\\\DNS Traffic Control\\\\Out\\\\RandomForest_stateful.joblib')"
   ]
  }
 ],
 "metadata": {
  "kernelspec": {
   "display_name": "Python 3",
   "language": "python",
   "name": "python3"
  },
  "language_info": {
   "codemirror_mode": {
    "name": "ipython",
    "version": 3
   },
   "file_extension": ".py",
   "mimetype": "text/x-python",
   "name": "python",
   "nbconvert_exporter": "python",
   "pygments_lexer": "ipython3",
   "version": "3.9.5"
  },
  "orig_nbformat": 4
 },
 "nbformat": 4,
 "nbformat_minor": 2
}
