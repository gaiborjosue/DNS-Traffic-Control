{
 "cells": [
  {
   "attachments": {},
   "cell_type": "markdown",
   "metadata": {},
   "source": [
    "## Importing and Merging the Datasets\n",
    "We will start by importing the necessary libraries and the two datasets. The first dataset contains benign traffic and the second dataset contains malicious traffic. We will create a new column in each dataset named 'class' which will have value 0 for all rows in the benign dataset and value 1 for all rows in the malicious dataset. We will then merge the two datasets into one using pd.concat()."
   ]
  },
  {
   "cell_type": "code",
   "execution_count": 1,
   "metadata": {},
   "outputs": [],
   "source": [
    "# First we have to import the libraries\n",
    "import pandas as pd\n",
    "import numpy as np"
   ]
  },
  {
   "cell_type": "code",
   "execution_count": 39,
   "metadata": {},
   "outputs": [],
   "source": [
    "# Here we are going to import the first benign dataset fron 'data' folder\n",
    "benign = pd.read_csv('C:\\\\Users\\\\gaibo\\\\OneDrive\\\\Escritorio\\\\Python Projects\\\\DNS Traffic Control\\\\Data\\\\stateless_features-light_benign.pcap.csv')\n",
    "\n",
    "# Now we are going to create another column in the dataset named 'class' which will have value 0 for all the rows\n",
    "benign['class'] = 0 # This is because we assume that all the data dns traffic in that dataset is benign\n",
    "\n",
    "# Here we are going to import the first benign dataset fron 'data' folder\n",
    "benign_2 = pd.read_csv('C:\\\\Users\\\\gaibo\\\\OneDrive\\\\Escritorio\\\\Python Projects\\\\DNS Traffic Control\\\\Data\\\\stateless_features-benign_1.pcap.csv')\n",
    "\n",
    "# Now we are going to create another column in the dataset named 'class' which will have value 0 for all the rows\n",
    "benign_2['class'] = 0 # This is because we assume that all the data dns traffic in that dataset is benign\n",
    "\n",
    "# Now we are going to import the first malicious dataset from 'data' folder\n",
    "malicious = pd.read_csv('C:\\\\Users\\\\gaibo\\\\OneDrive\\\\Escritorio\\\\Python Projects\\\\DNS Traffic Control\\\\Data\\\\stateless_features-light_compressed.pcap.csv')\n",
    "\n",
    "# Now we are going to create another column in the dataset named 'class' which will have value 1 for all the rows\n",
    "malicious['class'] = 1 # This is because we assume that all the data dns traffic in that dataset is malicious\n",
    "\n",
    "# Now we are going to merge both the datasets\n",
    "data_merged = pd.concat([benign, benign_2, malicious])\n"
   ]
  },
  {
   "cell_type": "code",
   "execution_count": 40,
   "metadata": {},
   "outputs": [],
   "source": [
    "# To avoid bias we are going to shuffle the dataset\n",
    "data = data_merged.sample(frac=1).reset_index(drop=True)"
   ]
  },
  {
   "cell_type": "code",
   "execution_count": 41,
   "metadata": {},
   "outputs": [],
   "source": [
    "from sklearn.preprocessing import LabelEncoder\n",
    "\n",
    "le = LabelEncoder()\n",
    "\n",
    "# Encode the longest_word column\n",
    "data['longest_word'] = le.fit_transform(data['longest_word'])\n",
    "\n",
    "# Encode the sld column\n",
    "data['sld'] = le.fit_transform(data['sld'])"
   ]
  },
  {
   "attachments": {},
   "cell_type": "markdown",
   "metadata": {},
   "source": [
    "## Preprocessing the Data\n",
    "Before splitting the dataset, we need to clean the data. First, we will remove the columns \"longest_word\" and \"sld\". Then, we will remove any rows with NaN values using data.dropna(). We will also normalize the numerical data using MinMaxScaler()."
   ]
  },
  {
   "cell_type": "code",
   "execution_count": 42,
   "metadata": {},
   "outputs": [
    {
     "data": {
      "text/html": [
       "<div>\n",
       "<style scoped>\n",
       "    .dataframe tbody tr th:only-of-type {\n",
       "        vertical-align: middle;\n",
       "    }\n",
       "\n",
       "    .dataframe tbody tr th {\n",
       "        vertical-align: top;\n",
       "    }\n",
       "\n",
       "    .dataframe thead th {\n",
       "        text-align: right;\n",
       "    }\n",
       "</style>\n",
       "<table border=\"1\" class=\"dataframe\">\n",
       "  <thead>\n",
       "    <tr style=\"text-align: right;\">\n",
       "      <th></th>\n",
       "      <th>FQDN_count</th>\n",
       "      <th>subdomain_length</th>\n",
       "      <th>upper</th>\n",
       "      <th>lower</th>\n",
       "      <th>numeric</th>\n",
       "      <th>entropy</th>\n",
       "      <th>special</th>\n",
       "      <th>labels</th>\n",
       "      <th>labels_max</th>\n",
       "      <th>labels_average</th>\n",
       "      <th>longest_word</th>\n",
       "      <th>sld</th>\n",
       "      <th>len</th>\n",
       "      <th>subdomain</th>\n",
       "      <th>class</th>\n",
       "    </tr>\n",
       "  </thead>\n",
       "  <tbody>\n",
       "    <tr>\n",
       "      <th>0</th>\n",
       "      <td>17</td>\n",
       "      <td>0</td>\n",
       "      <td>0</td>\n",
       "      <td>16</td>\n",
       "      <td>0</td>\n",
       "      <td>2.963972</td>\n",
       "      <td>1</td>\n",
       "      <td>2</td>\n",
       "      <td>13</td>\n",
       "      <td>8.000000</td>\n",
       "      <td>3696</td>\n",
       "      <td>10290</td>\n",
       "      <td>14</td>\n",
       "      <td>0</td>\n",
       "      <td>0</td>\n",
       "    </tr>\n",
       "    <tr>\n",
       "      <th>1</th>\n",
       "      <td>15</td>\n",
       "      <td>3</td>\n",
       "      <td>0</td>\n",
       "      <td>13</td>\n",
       "      <td>0</td>\n",
       "      <td>2.530857</td>\n",
       "      <td>2</td>\n",
       "      <td>3</td>\n",
       "      <td>7</td>\n",
       "      <td>4.333333</td>\n",
       "      <td>1614</td>\n",
       "      <td>17818</td>\n",
       "      <td>11</td>\n",
       "      <td>1</td>\n",
       "      <td>0</td>\n",
       "    </tr>\n",
       "    <tr>\n",
       "      <th>2</th>\n",
       "      <td>20</td>\n",
       "      <td>3</td>\n",
       "      <td>0</td>\n",
       "      <td>17</td>\n",
       "      <td>0</td>\n",
       "      <td>2.979089</td>\n",
       "      <td>3</td>\n",
       "      <td>3</td>\n",
       "      <td>13</td>\n",
       "      <td>6.000000</td>\n",
       "      <td>4348</td>\n",
       "      <td>12103</td>\n",
       "      <td>17</td>\n",
       "      <td>1</td>\n",
       "      <td>0</td>\n",
       "    </tr>\n",
       "    <tr>\n",
       "      <th>3</th>\n",
       "      <td>24</td>\n",
       "      <td>7</td>\n",
       "      <td>0</td>\n",
       "      <td>10</td>\n",
       "      <td>8</td>\n",
       "      <td>2.054029</td>\n",
       "      <td>6</td>\n",
       "      <td>6</td>\n",
       "      <td>7</td>\n",
       "      <td>3.166667</td>\n",
       "      <td>4</td>\n",
       "      <td>260</td>\n",
       "      <td>11</td>\n",
       "      <td>1</td>\n",
       "      <td>0</td>\n",
       "    </tr>\n",
       "    <tr>\n",
       "      <th>4</th>\n",
       "      <td>16</td>\n",
       "      <td>0</td>\n",
       "      <td>0</td>\n",
       "      <td>14</td>\n",
       "      <td>0</td>\n",
       "      <td>3.050030</td>\n",
       "      <td>2</td>\n",
       "      <td>2</td>\n",
       "      <td>12</td>\n",
       "      <td>7.500000</td>\n",
       "      <td>3730</td>\n",
       "      <td>10437</td>\n",
       "      <td>13</td>\n",
       "      <td>0</td>\n",
       "      <td>0</td>\n",
       "    </tr>\n",
       "  </tbody>\n",
       "</table>\n",
       "</div>"
      ],
      "text/plain": [
       "   FQDN_count  subdomain_length  upper  lower  numeric   entropy  special  \\\n",
       "0          17                 0      0     16        0  2.963972        1   \n",
       "1          15                 3      0     13        0  2.530857        2   \n",
       "2          20                 3      0     17        0  2.979089        3   \n",
       "3          24                 7      0     10        8  2.054029        6   \n",
       "4          16                 0      0     14        0  3.050030        2   \n",
       "\n",
       "   labels  labels_max  labels_average  longest_word    sld  len  subdomain  \\\n",
       "0       2          13        8.000000          3696  10290   14          0   \n",
       "1       3           7        4.333333          1614  17818   11          1   \n",
       "2       3          13        6.000000          4348  12103   17          1   \n",
       "3       6           7        3.166667             4    260   11          1   \n",
       "4       2          12        7.500000          3730  10437   13          0   \n",
       "\n",
       "   class  \n",
       "0      0  \n",
       "1      0  \n",
       "2      0  \n",
       "3      0  \n",
       "4      0  "
      ]
     },
     "execution_count": 42,
     "metadata": {},
     "output_type": "execute_result"
    }
   ],
   "source": [
    "# Before splitting the dataset, we have to clean the dataset. \n",
    "# Firs we are going to remove the columns \"longest_word\" and \"sld\"\n",
    "data = data.drop(['timestamp'], axis=1)\n",
    "\n",
    "# Then lets remove NaN values from the dataset\n",
    "data = data.dropna()\n",
    "\n",
    "# Print head of the dataset\n",
    "data.head()"
   ]
  },
  {
   "cell_type": "code",
   "execution_count": 43,
   "metadata": {},
   "outputs": [
    {
     "data": {
      "text/html": [
       "<div>\n",
       "<style scoped>\n",
       "    .dataframe tbody tr th:only-of-type {\n",
       "        vertical-align: middle;\n",
       "    }\n",
       "\n",
       "    .dataframe tbody tr th {\n",
       "        vertical-align: top;\n",
       "    }\n",
       "\n",
       "    .dataframe thead th {\n",
       "        text-align: right;\n",
       "    }\n",
       "</style>\n",
       "<table border=\"1\" class=\"dataframe\">\n",
       "  <thead>\n",
       "    <tr style=\"text-align: right;\">\n",
       "      <th></th>\n",
       "      <th>FQDN_count</th>\n",
       "      <th>subdomain_length</th>\n",
       "      <th>upper</th>\n",
       "      <th>lower</th>\n",
       "      <th>numeric</th>\n",
       "      <th>entropy</th>\n",
       "      <th>special</th>\n",
       "      <th>labels</th>\n",
       "      <th>labels_max</th>\n",
       "      <th>labels_average</th>\n",
       "      <th>longest_word</th>\n",
       "      <th>sld</th>\n",
       "      <th>len</th>\n",
       "      <th>subdomain</th>\n",
       "      <th>class</th>\n",
       "    </tr>\n",
       "  </thead>\n",
       "  <tbody>\n",
       "    <tr>\n",
       "      <th>0</th>\n",
       "      <td>0.441176</td>\n",
       "      <td>0.000000</td>\n",
       "      <td>0</td>\n",
       "      <td>16</td>\n",
       "      <td>0</td>\n",
       "      <td>0.661556</td>\n",
       "      <td>1</td>\n",
       "      <td>2</td>\n",
       "      <td>13</td>\n",
       "      <td>8.000000</td>\n",
       "      <td>0.311085</td>\n",
       "      <td>0.314910</td>\n",
       "      <td>0.363636</td>\n",
       "      <td>0</td>\n",
       "      <td>0</td>\n",
       "    </tr>\n",
       "    <tr>\n",
       "      <th>1</th>\n",
       "      <td>0.382353</td>\n",
       "      <td>0.103448</td>\n",
       "      <td>0</td>\n",
       "      <td>13</td>\n",
       "      <td>0</td>\n",
       "      <td>0.557165</td>\n",
       "      <td>2</td>\n",
       "      <td>3</td>\n",
       "      <td>7</td>\n",
       "      <td>4.333333</td>\n",
       "      <td>0.135847</td>\n",
       "      <td>0.545293</td>\n",
       "      <td>0.272727</td>\n",
       "      <td>1</td>\n",
       "      <td>0</td>\n",
       "    </tr>\n",
       "    <tr>\n",
       "      <th>2</th>\n",
       "      <td>0.529412</td>\n",
       "      <td>0.103448</td>\n",
       "      <td>0</td>\n",
       "      <td>17</td>\n",
       "      <td>0</td>\n",
       "      <td>0.665200</td>\n",
       "      <td>3</td>\n",
       "      <td>3</td>\n",
       "      <td>13</td>\n",
       "      <td>6.000000</td>\n",
       "      <td>0.365962</td>\n",
       "      <td>0.370394</td>\n",
       "      <td>0.454545</td>\n",
       "      <td>1</td>\n",
       "      <td>0</td>\n",
       "    </tr>\n",
       "    <tr>\n",
       "      <th>3</th>\n",
       "      <td>0.647059</td>\n",
       "      <td>0.241379</td>\n",
       "      <td>0</td>\n",
       "      <td>10</td>\n",
       "      <td>8</td>\n",
       "      <td>0.442238</td>\n",
       "      <td>6</td>\n",
       "      <td>6</td>\n",
       "      <td>7</td>\n",
       "      <td>3.166667</td>\n",
       "      <td>0.000337</td>\n",
       "      <td>0.007957</td>\n",
       "      <td>0.272727</td>\n",
       "      <td>1</td>\n",
       "      <td>0</td>\n",
       "    </tr>\n",
       "    <tr>\n",
       "      <th>4</th>\n",
       "      <td>0.411765</td>\n",
       "      <td>0.000000</td>\n",
       "      <td>0</td>\n",
       "      <td>14</td>\n",
       "      <td>0</td>\n",
       "      <td>0.682298</td>\n",
       "      <td>2</td>\n",
       "      <td>2</td>\n",
       "      <td>12</td>\n",
       "      <td>7.500000</td>\n",
       "      <td>0.313947</td>\n",
       "      <td>0.319409</td>\n",
       "      <td>0.333333</td>\n",
       "      <td>0</td>\n",
       "      <td>0</td>\n",
       "    </tr>\n",
       "  </tbody>\n",
       "</table>\n",
       "</div>"
      ],
      "text/plain": [
       "   FQDN_count  subdomain_length  upper  lower  numeric   entropy  special  \\\n",
       "0    0.441176          0.000000      0     16        0  0.661556        1   \n",
       "1    0.382353          0.103448      0     13        0  0.557165        2   \n",
       "2    0.529412          0.103448      0     17        0  0.665200        3   \n",
       "3    0.647059          0.241379      0     10        8  0.442238        6   \n",
       "4    0.411765          0.000000      0     14        0  0.682298        2   \n",
       "\n",
       "   labels  labels_max  labels_average  longest_word       sld       len  \\\n",
       "0       2          13        8.000000      0.311085  0.314910  0.363636   \n",
       "1       3           7        4.333333      0.135847  0.545293  0.272727   \n",
       "2       3          13        6.000000      0.365962  0.370394  0.454545   \n",
       "3       6           7        3.166667      0.000337  0.007957  0.272727   \n",
       "4       2          12        7.500000      0.313947  0.319409  0.333333   \n",
       "\n",
       "   subdomain  class  \n",
       "0          0      0  \n",
       "1          1      0  \n",
       "2          1      0  \n",
       "3          1      0  \n",
       "4          0      0  "
      ]
     },
     "execution_count": 43,
     "metadata": {},
     "output_type": "execute_result"
    }
   ],
   "source": [
    "# Lets normalize the numerical data\n",
    "from sklearn.preprocessing import MinMaxScaler\n",
    "\n",
    "# Create a scaler object\n",
    "scaler = MinMaxScaler()\n",
    "\n",
    "# Fit the data on the scaler object\n",
    "data[['FQDN_count', 'subdomain_length', 'entropy', 'len', 'longest_word', 'sld']] = scaler.fit_transform(data[['FQDN_count', 'subdomain_length', 'entropy', 'len', 'longest_word', 'sld']])\n",
    "\n",
    "# Print head of the dataset\n",
    "data.head()"
   ]
  },
  {
   "attachments": {},
   "cell_type": "markdown",
   "metadata": {},
   "source": [
    "## Splitting the Dataset and Training the Random Forest Classifier\n",
    "Now we can split the dataset into training and testing data using train_test_split(). We will use 80% of the data for training and 20% for testing. We will then create the Random Forest Classifier with n_estimators=100 and max_depth=5, and fit the model using the training data. We will test the model using the testing data and calculate the accuracy using accuracy_score()."
   ]
  },
  {
   "cell_type": "code",
   "execution_count": 44,
   "metadata": {},
   "outputs": [
    {
     "name": "stdout",
     "output_type": "stream",
     "text": [
      "Accuracy:  0.94936729663106\n"
     ]
    }
   ],
   "source": [
    "# After preparing the dataset, lets import sklearn libraries. In this project we are going to use random forest classifier\n",
    "from sklearn.ensemble import RandomForestClassifier\n",
    "from sklearn.model_selection import train_test_split\n",
    "from sklearn.metrics import accuracy_score\n",
    "\n",
    "# Now lets split the dataset into training and testing data\n",
    "X = data.drop(['class'], axis=1)\n",
    "y = data['class']\n",
    "\n",
    "X_train, X_test, y_train, y_test = train_test_split(X, y, test_size=0.3, random_state=42)\n",
    "\n",
    "\n",
    "# Now lets create the model\n",
    "model = RandomForestClassifier(n_estimators=100, max_depth=5, random_state=0)\n",
    "\n",
    "# Now lets train the model\n",
    "model.fit(X_train, y_train)\n",
    "\n",
    "# Now lets test the model\n",
    "y_pred = model.predict(X_test)\n",
    "\n",
    "# Now lets check the accuracy of the model\n",
    "accuracy_score(y_test, y_pred)\n",
    "\n",
    "# Print the accuracy\n",
    "print(\"Accuracy: \", accuracy_score(y_test, y_pred))"
   ]
  },
  {
   "cell_type": "code",
   "execution_count": 45,
   "metadata": {},
   "outputs": [
    {
     "name": "stdout",
     "output_type": "stream",
     "text": [
      "Mean CV score: 0.95\n"
     ]
    }
   ],
   "source": [
    "# Now lets perform cross validation to be sure we are not overfitting the model\n",
    "\n",
    "from sklearn.model_selection import cross_val_score\n",
    "\n",
    "# Perform 5-fold cross-validation on your data\n",
    "cv_scores = cross_val_score(model, X, y, cv=5)\n",
    "\n",
    "# Print the mean cross-validation score\n",
    "print(\"Mean CV score: {:.2f}\".format(cv_scores.mean())) # This is the mean accuracy of the model and as seen it is 0.85, which is close to the accuracy of the model, so we can say that we are not overfitting the model on the training data and it will do well on the testing new data"
   ]
  },
  {
   "cell_type": "code",
   "execution_count": 46,
   "metadata": {},
   "outputs": [
    {
     "data": {
      "image/png": "[encoded data removed]",
      "text/plain": [
       "<Figure size 432x288 with 1 Axes>"
      ]
     },
     "metadata": {
      "needs_background": "light"
     },
     "output_type": "display_data"
    }
   ],
   "source": [
    "import matplotlib.pyplot as plt\n",
    "\n",
    "# Now lets plot the feature importance to understand which features are more important\n",
    "importances = model.feature_importances_\n",
    "\n",
    "# get the names of the features\n",
    "feature_names = X_train.columns.values\n",
    "\n",
    "# sort the features by their importance score in descending order\n",
    "indices = np.argsort(importances)[::-1]\n",
    "\n",
    "# plot the feature importances\n",
    "plt.figure()\n",
    "plt.title(\"Feature importances\")\n",
    "plt.bar(range(X_train.shape[1]), importances[indices], color=\"r\", align=\"center\")\n",
    "plt.xticks(range(X_train.shape[1]), feature_names[indices], rotation=90)\n",
    "plt.xlim([-1, X_train.shape[1]])\n",
    "plt.tight_layout()\n",
    "plt.show()"
   ]
  },
  {
   "cell_type": "code",
   "execution_count": 47,
   "metadata": {},
   "outputs": [
    {
     "data": {
      "text/plain": [
       "['C:\\\\Users\\\\gaibo\\\\OneDrive\\\\Escritorio\\\\Python Projects\\\\DNS Traffic Control\\\\Out\\\\RandomForest.joblib']"
      ]
     },
     "execution_count": 47,
     "metadata": {},
     "output_type": "execute_result"
    }
   ],
   "source": [
    "# Now lets save the model\n",
    "import joblib\n",
    "\n",
    "# Save the model as a joblib file\n",
    "joblib.dump(model, 'C:\\\\Users\\\\gaibo\\\\OneDrive\\\\Escritorio\\\\Python Projects\\\\DNS Traffic Control\\\\Out\\\\RandomForest.joblib')"
   ]
  },
  {
   "cell_type": "code",
   "execution_count": 53,
   "metadata": {},
   "outputs": [],
   "source": [
    "data_test = pd.read_csv('C:\\\\Users\\\\gaibo\\\\OneDrive\\\\Escritorio\\\\Python Projects\\\\DNS Traffic Control\\\\Data\\\\Test\\\\Image_attack.csv')\n",
    "\n",
    "# Before splitting the dataset, we have to clean the dataset. \n",
    "# Firs we are going to remove the columns \"longest_word\" and \"sld\"\n",
    "data_test = data_test.drop(['timestamp'], axis=1)\n",
    "\n",
    "# Then lets remove NaN values from the dataset\n",
    "data_test = data_test.dropna()\n",
    "\n",
    "# Encode the longest_word column\n",
    "data_test['longest_word'] = le.fit_transform(data_test['longest_word'])\n",
    "\n",
    "# Encode the sld column\n",
    "data_test['sld'] = le.fit_transform(data_test['sld'])"
   ]
  },
  {
   "cell_type": "code",
   "execution_count": 57,
   "metadata": {},
   "outputs": [
    {
     "name": "stdout",
     "output_type": "stream",
     "text": [
      "[0 0 0 0 0 0 0 0 0 0 0 0 0 0 0 0 0 0 0 0 0 0 0 0 0 0 0 0 0 0 0 0 0 0 0 0 0\n",
      " 0 0 0 0 0 0 0 0 0 0 0 0 0 0 0 0 0 0 0 0 0 0 0 0 0 0 0 0 0 0 0 0 0 0 0 0 0\n",
      " 0 0 0 0 0 0 0 0 0 0 0 0 0 0 0 0 0 0 0 0 0 0 0 0 0 0 0 0 0 0 0 0 0 0 0 0 0\n",
      " 0 0 0 0 0 0 0 0 0 0 0 0 0 0 0 0 0 0 0 0 0 0 0 0 0 0 0 0 0 0 0 0 0 0 0 0 0\n",
      " 0 0 0 0 0 0 0 0 0 0 0 0 0 0 0 0 0 0 0 0 0 0 0 0 0 0 0 0 0 0 0 0 0 0 0 0 0\n",
      " 0 0 0 0 0 0 0 0 0 0 0 0 0 0 0 0 0 0 0 0 0 0 0 0 0 0 0 0 0 0 0 0 0 0 0 0 0\n",
      " 0 0 0 0 0 0 0 0 0 0 0 0 0 0 0 0 0 0 0 0 0 0 0 0 0 0 0 0 0 0 0 0 0 0 0 0 0\n",
      " 0 0 0 0 0 0 0 0 0 0 0 0 0 0 0 0 0 0 0 0 0 0 0 0 0 0 0 0 0 0 0 0 0 0 0 0 0\n",
      " 0 0 0 0 0 0 0 0 0 0 0 0 0 0 0 0 0 0 0 0 0 0 0 0 0 0 0 0 0 0 0 0 0 0 0 0 0\n",
      " 0 0 0 0 0 0 0 0 0 0 0 0 0 0 0 0 0 0 0 0 0 0 0 0 0 0 0 0 0 0 0 0 0 0 0 0 0\n",
      " 0 0 0 0 0 0 0 0 0 0 0 0 0 0 0 0 0 0 0 0 0 0 0 0 0 0 0 0 0 0 0 0 0 0 0 0 0\n",
      " 0 0 0 0 0 0 0 0 0 0 0 0 0 0 0 0 0 0 0 0 0 0 0 0 0 0 0 0 0 0 0 0 0 0 0 0 0\n",
      " 0 0 0 0 0 0 0 0 0 0 0 0 0 0 0 0 0 0 0 0 0 0 0 0 0 0 0 0 0 0 0 0 0 0 0 0 0\n",
      " 0 0 0 0 0 0 0 0 0 0 0 0 0 0 0 0 0 0 0 0 0 0 0 0 0 0 0 0 0 0 0 0 0 0 0 0 0\n",
      " 0 0 0 0 0 0]\n"
     ]
    }
   ],
   "source": [
    "np.set_printoptions(precision=5, suppress=True)\n",
    "print(model.predict(data_test))"
   ]
  },
  {
   "cell_type": "code",
   "execution_count": 55,
   "metadata": {},
   "outputs": [],
   "source": [
    "def get_packet_labels(predictions, threshold_1=0.4, threshold_2=0.7):\n",
    "    \"\"\"\n",
    "    Returns a list of packet labels based on the given probability thresholds.\n",
    "\n",
    "    Args:\n",
    "    - predictions: list of tuples containing the predicted probabilities for each packet\n",
    "    - threshold_1: probability threshold for assigning the \"suspicious\" label\n",
    "    - threshold_2: probability threshold for assigning the \"attack\" label\n",
    "\n",
    "    Returns:\n",
    "    - list of packet labels (one of \"benign\", \"suspicious\", or \"attack\") for each packet\n",
    "    \"\"\"\n",
    "    labels = []\n",
    "    for p in predictions:\n",
    "        if p[1] < threshold_1:\n",
    "            labels.append(\"benign\")\n",
    "        elif p[1] > threshold_2:\n",
    "            labels.append(\"attack\")    \n",
    "        elif p[1] > threshold_1 and p[1] < threshold_2:\n",
    "            labels.append(\"suspicious\")\n",
    "        \n",
    "    return labels"
   ]
  },
  {
   "cell_type": "code",
   "execution_count": 56,
   "metadata": {},
   "outputs": [
    {
     "name": "stdout",
     "output_type": "stream",
     "text": [
      "{'benign'}\n"
     ]
    }
   ],
   "source": [
    "print(set(get_packet_labels(model.predict_proba(data_test))))"
   ]
  }
 ],
 "metadata": {
  "kernelspec": {
   "display_name": "Python 3",
   "language": "python",
   "name": "python3"
  },
  "language_info": {
   "codemirror_mode": {
    "name": "ipython",
    "version": 3
   },
   "file_extension": ".py",
   "mimetype": "text/x-python",
   "name": "python",
   "nbconvert_exporter": "python",
   "pygments_lexer": "ipython3",
   "version": "3.9.5"
  },
  "orig_nbformat": 4
 },
 "nbformat": 4,
 "nbformat_minor": 2
}
